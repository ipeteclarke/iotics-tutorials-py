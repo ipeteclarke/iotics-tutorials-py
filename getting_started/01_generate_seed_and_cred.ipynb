{
 "cells": [
  {
   "cell_type": "markdown",
   "id": "58e7fc61-5f00-412f-878a-4f94da4de27f",
   "metadata": {},
   "source": [
    "# Generation of Distributed Credentials"
   ]
  },
  {
   "cell_type": "markdown",
   "id": "71c220c0-d7a0-4509-b0cb-0153ff8e3505",
   "metadata": {},
   "source": [
    "IOTICS handles credentials through Decentralized Identity (DID) Documents. They are built based on the [W3C's decentralized ID](https://www.w3.org/TR/did-core/) standard.\r\n",
    "\r\n",
    "DIDs are an emerging effort for establishing a standard for self-sovereign digital identities. They provide entities with the ability to self-manage cryptographic key material and other metadata about their identity. This data can be used to authenticate an entity to third parties or to request authorisation for access to a given resource.s.\r\n",
    "\r\n",
    "The IOTICS Identity Library is used to manufacture the IDs and register them in IOTICS so that authentication and authorisation can be achieved.\r\n",
    "\r\n",
    "The decentralised nature of the IOTICS concept and middleware fits very well with the concept of DID and IOTICS Implements the necessary crypto verifications to prove ownership of a private key.\r\n",
    "\r\n",
    "If you'd like to know more about DIDs and how they work, you can check ou[t the Decentralised Identit](https://docs.iotics.com/docs/identity)y page, for an overview an[d the Identity API and Crede](https://docs.iotics.com/docs/identity-api-and-credentials)ntials page for a more in-depth ex\n",
    "\n",
    "> You will see the scripts below will output secret information, this is only used for education purposes. It is recommeded to use existing scripts that generate and delegate the credentials and store them in environment files\n",
    "planation."
   ]
  },
  {
   "cell_type": "markdown",
   "id": "6c77029b-b7f0-4a83-9c61-76a20be3bbda",
   "metadata": {},
   "source": [
    "## Pre-requisites "
   ]
  },
  {
   "cell_type": "code",
   "execution_count": 1,
   "id": "2a6f48a0-1a93-4d00-b788-0f392b589289",
   "metadata": {},
   "outputs": [
    {
     "name": "stdout",
     "output_type": "stream",
     "text": [
      "Defaulting to user installation because normal site-packages is not writeable\n",
      "Collecting iotics-identity\n",
      "  Downloading iotics_identity-2.0.0-py3-none-any.whl.metadata (5.8 kB)\n",
      "Requirement already satisfied: requests>=2.31.0 in /usr/local/lib/python3.10/dist-packages (from iotics-identity) (2.31.0)\n",
      "Collecting base58==2.1.1 (from iotics-identity)\n",
      "  Downloading base58-2.1.1-py3-none-any.whl (5.6 kB)\n",
      "Collecting PyJWT==2.7.0 (from iotics-identity)\n",
      "  Downloading PyJWT-2.7.0-py3-none-any.whl (22 kB)\n",
      "Collecting mnemonic==0.20 (from iotics-identity)\n",
      "  Downloading mnemonic-0.20-py3-none-any.whl (62 kB)\n",
      "\u001b[2K     \u001b[90m━━━━━━━━━━━━━━━━━━━━━━━━━━━━━━━━━━━━━━━━\u001b[0m \u001b[32m62.0/62.0 kB\u001b[0m \u001b[31m1.6 MB/s\u001b[0m eta \u001b[36m0:00:00\u001b[0m00:01\u001b[0m\n",
      "\u001b[?25hCollecting cryptography<42,>=41.0.2 (from iotics-identity)\n",
      "  Downloading cryptography-41.0.7-cp37-abi3-manylinux_2_28_x86_64.whl.metadata (5.2 kB)\n",
      "Requirement already satisfied: cffi>=1.12 in /usr/local/lib/python3.10/dist-packages (from cryptography<42,>=41.0.2->iotics-identity) (1.15.1)\n",
      "Requirement already satisfied: charset-normalizer<4,>=2 in /usr/local/lib/python3.10/dist-packages (from requests>=2.31.0->iotics-identity) (3.0.1)\n",
      "Requirement already satisfied: idna<4,>=2.5 in /usr/local/lib/python3.10/dist-packages (from requests>=2.31.0->iotics-identity) (3.4)\n",
      "Requirement already satisfied: urllib3<3,>=1.21.1 in /usr/local/lib/python3.10/dist-packages (from requests>=2.31.0->iotics-identity) (1.26.14)\n",
      "Requirement already satisfied: certifi>=2017.4.17 in /usr/local/lib/python3.10/dist-packages (from requests>=2.31.0->iotics-identity) (2022.12.7)\n",
      "Requirement already satisfied: pycparser in /usr/local/lib/python3.10/dist-packages (from cffi>=1.12->cryptography<42,>=41.0.2->iotics-identity) (2.21)\n",
      "Downloading iotics_identity-2.0.0-py3-none-any.whl (47 kB)\n",
      "\u001b[2K   \u001b[90m━━━━━━━━━━━━━━━━━━━━━━━━━━━━━━━━━━━━━━━━\u001b[0m \u001b[32m48.0/48.0 kB\u001b[0m \u001b[31m1.3 MB/s\u001b[0m eta \u001b[36m0:00:00\u001b[0m\n",
      "\u001b[?25hDownloading cryptography-41.0.7-cp37-abi3-manylinux_2_28_x86_64.whl (4.4 MB)\n",
      "\u001b[2K   \u001b[90m━━━━━━━━━━━━━━━━━━━━━━━━━━━━━━━━━━━━━━━━\u001b[0m \u001b[32m4.4/4.4 MB\u001b[0m \u001b[31m4.4 MB/s\u001b[0m eta \u001b[36m0:00:00\u001b[0m00:01\u001b[0m00:01\u001b[0m\n",
      "\u001b[?25hInstalling collected packages: PyJWT, mnemonic, base58, cryptography, iotics-identity\n",
      "\u001b[33m  WARNING: The script base58 is installed in '/home/demouser/.local/bin' which is not on PATH.\n",
      "  Consider adding this directory to PATH or, if you prefer to suppress this warning, use --no-warn-script-location.\u001b[0m\u001b[33m\n",
      "\u001b[0m\u001b[33m  WARNING: The script iotics-identity-create-seed is installed in '/home/demouser/.local/bin' which is not on PATH.\n",
      "  Consider adding this directory to PATH or, if you prefer to suppress this warning, use --no-warn-script-location.\u001b[0m\u001b[33m\n",
      "\u001b[0m\u001b[31mERROR: pip's dependency resolver does not currently take into account all the packages that are installed. This behaviour is the source of the following dependency conflicts.\n",
      "pyopenssl 23.0.0 requires cryptography<40,>=38.0.0, but you have cryptography 41.0.7 which is incompatible.\u001b[0m\u001b[31m\n",
      "\u001b[0mSuccessfully installed PyJWT-2.7.0 base58-2.1.1 cryptography-41.0.7 iotics-identity-2.0.0 mnemonic-0.20\n",
      "\n",
      "\u001b[1m[\u001b[0m\u001b[34;49mnotice\u001b[0m\u001b[1;39;49m]\u001b[0m\u001b[39;49m A new release of pip is available: \u001b[0m\u001b[31;49m23.3.1\u001b[0m\u001b[39;49m -> \u001b[0m\u001b[32;49m23.3.2\u001b[0m\n",
      "\u001b[1m[\u001b[0m\u001b[34;49mnotice\u001b[0m\u001b[1;39;49m]\u001b[0m\u001b[39;49m To update, run: \u001b[0m\u001b[32;49mpython3 -m pip install --upgrade pip\u001b[0m\n",
      "Defaulting to user installation because normal site-packages is not writeable\n",
      "Collecting iotics-grpc-client\n",
      "  Downloading iotics_grpc_client-4.0.1-py3-none-any.whl.metadata (6.4 kB)\n",
      "Collecting googleapis-common-protos>=1.56.3 (from iotics-grpc-client)\n",
      "  Downloading googleapis_common_protos-1.62.0-py2.py3-none-any.whl.metadata (1.5 kB)\n",
      "Collecting grpcio>=1.50.0 (from iotics-grpc-client)\n",
      "  Downloading grpcio-1.60.0-cp310-cp310-manylinux_2_17_x86_64.manylinux2014_x86_64.whl.metadata (4.0 kB)\n",
      "Requirement already satisfied: protobuf!=3.20.0,!=3.20.1,!=4.21.1,!=4.21.2,!=4.21.3,!=4.21.4,!=4.21.5,<5.0.0.dev0,>=3.19.5 in /usr/local/lib/python3.10/dist-packages (from googleapis-common-protos>=1.56.3->iotics-grpc-client) (4.25.1)\n",
      "Downloading iotics_grpc_client-4.0.1-py3-none-any.whl (52 kB)\n",
      "\u001b[2K   \u001b[90m━━━━━━━━━━━━━━━━━━━━━━━━━━━━━━━━━━━━━━━━\u001b[0m \u001b[32m52.9/52.9 kB\u001b[0m \u001b[31m1.7 MB/s\u001b[0m eta \u001b[36m0:00:00\u001b[0m\n",
      "\u001b[?25hDownloading googleapis_common_protos-1.62.0-py2.py3-none-any.whl (228 kB)\n",
      "\u001b[2K   \u001b[90m━━━━━━━━━━━━━━━━━━━━━━━━━━━━━━━━━━━━━━━━\u001b[0m \u001b[32m228.7/228.7 kB\u001b[0m \u001b[31m2.5 MB/s\u001b[0m eta \u001b[36m0:00:00\u001b[0m00:01\u001b[0m00:01\u001b[0m\n",
      "\u001b[?25hDownloading grpcio-1.60.0-cp310-cp310-manylinux_2_17_x86_64.manylinux2014_x86_64.whl (5.4 MB)\n",
      "\u001b[2K   \u001b[90m━━━━━━━━━━━━━━━━━━━━━━━━━━━━━━━━━━━━━━━━\u001b[0m \u001b[32m5.4/5.4 MB\u001b[0m \u001b[31m4.2 MB/s\u001b[0m eta \u001b[36m0:00:00\u001b[0m00:01\u001b[0m00:01\u001b[0m\n",
      "\u001b[?25hInstalling collected packages: grpcio, googleapis-common-protos, iotics-grpc-client\n",
      "Successfully installed googleapis-common-protos-1.62.0 grpcio-1.60.0 iotics-grpc-client-4.0.1\n",
      "\n",
      "\u001b[1m[\u001b[0m\u001b[34;49mnotice\u001b[0m\u001b[1;39;49m]\u001b[0m\u001b[39;49m A new release of pip is available: \u001b[0m\u001b[31;49m23.3.1\u001b[0m\u001b[39;49m -> \u001b[0m\u001b[32;49m23.3.2\u001b[0m\n",
      "\u001b[1m[\u001b[0m\u001b[34;49mnotice\u001b[0m\u001b[1;39;49m]\u001b[0m\u001b[39;49m To update, run: \u001b[0m\u001b[32;49mpython3 -m pip install --upgrade pip\u001b[0m\n"
     ]
    }
   ],
   "source": [
    "!pip install iotics-identity\n",
    "!pip install iotics-grpc-client"
   ]
  },
  {
   "cell_type": "markdown",
   "id": "768f0e57-36f8-4a2f-98c7-71746280da9a",
   "metadata": {},
   "source": [
    "# Generating Credentials and Delgating Permissions\n",
    "\n",
    "## Key Concepts\n",
    "\n",
    "### Identity creation\n",
    "\n",
    "To start creating a DID you'll need 2 values:\n",
    "\n",
    " - A Seed, a random string of characters generated via the API.\n",
    " - A Key Name, a string of characters that uniquely identifies the entity.\n",
    " \n",
    "Together they generate a Key Pair consisting of a public and a private key which corresponds to the DID itself. Both keys, Private and Public form the cryptographic key pair that ensures the correct entity authentication.\n",
    "\n",
    "### Identity storage\n",
    "\r\n",
    "When a DID is created, it's stored into its related DDO, Decentralised Identity Document, which, along with the DID, contains some other important information for entity identification.\r\n",
    "Each entity has its own DDO, and they are stored in the Resolver, a database for this type of documen\n",
    "\n",
    "### Delegation\r\n",
    "\r\n",
    "Once the DIDs are created the Delegation can take place. Delegation is the process of granting another entity the ability to act on behalf of an identity owner.\r\n",
    "\r\n",
    "In IOTICS the delegating entity is always a User or a Twin and the delegated entity is always the Agent. With this, we have two types of delegation:\r\n",
    "\r\n",
    " - Authentication delegation:  A User delegates authorisation to an Agent so it can authenticate itself on an IOTICSpace on behalf of such User.\r\n",
    " - Control delegation: A Twin delegates control to an Agent to grant it the ability to perform operations on behalf of such Twin.in.\r\n",
    "    in.t.\n",
    "    "
   ]
  },
  {
   "cell_type": "markdown",
   "id": "9941b19b-768e-42d3-98b2-82bbc38d8a2c",
   "metadata": {},
   "source": [
    "# Credential Generation Code"
   ]
  },
  {
   "cell_type": "code",
   "execution_count": 5,
   "id": "4474f366-eac6-4a85-b4c2-fb64c36fa34d",
   "metadata": {},
   "outputs": [],
   "source": [
    "import sys\n",
    "\n",
    "from iotics.lib.identity.api.high_level_api import (\n",
    "    get_rest_high_level_identity_api,\n",
    "    HighLevelIdentityApi,\n",
    "    RegisteredIdentity\n",
    "\n",
    ")"
   ]
  },
  {
   "cell_type": "code",
   "execution_count": 6,
   "id": "eebb21af-9432-4d21-b3cc-6802c44da85e",
   "metadata": {},
   "outputs": [],
   "source": [
    "RESOLVER_URL: str = \"https://did.prd.iotics.com\"  # You can find it at <space_url>/index.json --> \"resolver\""
   ]
  },
  {
   "cell_type": "markdown",
   "id": "2a5e3522-17cd-4fe4-81e9-70d8f414efee",
   "metadata": {},
   "source": [
    "## Seed Generation\n",
    "\n",
    "A new Identity, be it a User, an Agent or a Twin can be created with:\n",
    "1.  A Key Name: a string of characters that uniquely identifies the entity;\n",
    "2.  A Seed: a random string of characters generated via the API;\n",
    "3.  A Name (optional): a human-friendly string of characters that represents the entity.\n",
    "4.  \n",
    "The creation (or retrieval) of a User and an Agent Identity will most likely be the entry point of any\n",
    "IOTICS application.\n",
    "\n",
    "While the User Identity represents the Identity of yourself,\n",
    "the Agent Identity represents the Identity of the Software application that will manage your Twins.\n",
    "\n",
    "This means, you will create (and re-use) only 1 User Identity and a different Agent Identity per application.\n",
    "This script is intended to show what the setup of a User and an Agent Identity will be like.\n"
   ]
  },
  {
   "cell_type": "code",
   "execution_count": 9,
   "id": "fdc20886-1850-4099-a6e3-ea0c692bd3d8",
   "metadata": {},
   "outputs": [
    {
     "name": "stdout",
     "output_type": "stream",
     "text": [
      "USER_SEED: str =  fe350c6e2d22f9c36f76c2f4794038eff2c2c0e47012bbf415c6d12779ceabcd\n",
      "AGENT_SEED: str =  05843bee27bda0979df21fa0e10e154d5f7b4f6ade820ad1fd59bfcb630108ad\n"
     ]
    }
   ],
   "source": [
    "if not RESOLVER_URL:\n",
    "    print(\"Please add the RESOLVER_URL to this script.\")\n",
    "    print('You can find it at <space_url>/index.json --> \"resolver\"')\n",
    "    sys.exit(1)\n",
    "\n",
    "identity_api: HighLevelIdentityApi = get_rest_high_level_identity_api(\n",
    "    resolver_url=RESOLVER_URL\n",
    ")\n",
    "\n",
    "# The seed generated is a 'bytes' object\n",
    "bytes_seed_u: bytes = identity_api.create_seed()\n",
    "bytes_seed_a: bytes = identity_api.create_seed()\n",
    "\n",
    "hex_string_seed_u: str = bytes_seed_u.hex()\n",
    "hex_string_seed_a: str = bytes_seed_a.hex()\n",
    "\n",
    "print(\"USER_SEED: str = \", hex_string_seed_u)\n",
    "print(\"AGENT_SEED: str = \", hex_string_seed_a)\n",
    "\n",
    "USER_SEED:  str = hex_string_seed_u\n",
    "AGENT_SEED: str = hex_string_seed_a"
   ]
  },
  {
   "cell_type": "markdown",
   "id": "3c4fd365-82ec-4b4b-8595-7bafe45768b6",
   "metadata": {},
   "source": [
    "## Managing Credentials\n",
    "\n",
    "Make sure you store the following credentials in a safe place as they will be used any time you want to use the API.\n",
    "\n",
    "If you lose them you will not be able to interact with your twins anymore.\n",
    "\n",
    "As a minimum we recommend that these credentials are used from some enviorment file used to house secrets and that it is managed appropriately (e.g. in a vault)\n"
   ]
  },
  {
   "cell_type": "code",
   "execution_count": 4,
   "id": "0404067a-c723-4cd5-a6bc-ce5eca7cedee",
   "metadata": {},
   "outputs": [],
   "source": [
    "USER_KEY_NAME: str = \"pclarke\"                                                       # A string of characters that uniquely identifies the User (i.e. your name)\n",
    "AGENT_KEY_NAME: str = \"demo-cx\"                                                      # A string of characters that uniquely identifies the Agent (i.e. your application/script name)\n",
    "obs\n",
    "#USER_SEED: str = \"713e9a6901e9ec61e0e97007d18b988913c76a786fd3bec5e722961b4c81e5e0\"  # A seed string of hex characters generated via the API (you can use \"generate_new_seed.py\")\n",
    "#AGENT_SEED: str = \"713e9a6901e9ec61e0e97007d18b988913c76a786fd3bec5e722961b4c81e5e0\" # A seed string of hex characters generated via the API (you can use \"generate_new_seed.py\")"
   ]
  },
  {
   "cell_type": "markdown",
   "id": "58d4440b-fe74-42db-ad3d-b9ea8ab109de",
   "metadata": {},
   "source": [
    "## Delegation\n",
    "Delegation is the process of granting another entity the ability to act on behalf of an identity owner.\n",
    "\n",
    "In this case we want to grant the agent the right to act on behalf of the user"
   ]
  },
  {
   "cell_type": "code",
   "execution_count": 8,
   "id": "59abfdf0-f100-4f8e-b82f-94fb9f097303",
   "metadata": {},
   "outputs": [
    {
     "name": "stdout",
     "output_type": "stream",
     "text": [
      "User and Agent created with Authentication Delegation\n",
      "Please store the following credentials in a safe place !!\n",
      "---\n",
      "USER_KEY_NAME: pclarke\n",
      "USER_SEED: 713e9a6901e9ec61e0e97007d18b988913c76a786fd3bec5e722961b4c81e5e0\n",
      "---\n",
      "AGENT_KEY_NAME: demo-cx\n",
      "AGENT_SEED: 713e9a6901e9ec61e0e97007d18b988913c76a786fd3bec5e722961b4c81e5e0\n"
     ]
    }
   ],
   "source": [
    "identity_api: HighLevelIdentityApi = get_rest_high_level_identity_api(\n",
    "    resolver_url=RESOLVER_URL\n",
    ")\n",
    "\n",
    "user_identity: RegisteredIdentity\n",
    "agent_identity: RegisteredIdentity\n",
    "(\n",
    "    user_identity,  # It won't be used in this script\n",
    "    agent_identity,  # It won't be used in this script\n",
    ") = identity_api.create_user_and_agent_with_auth_delegation(\n",
    "    # The user seed has to be converted back to a \"bytes\" object.\n",
    "    # We can use the built-in function \"bytes.fromhex()\"\n",
    "    user_seed=bytes.fromhex(USER_SEED),\n",
    "    user_key_name=USER_KEY_NAME,\n",
    "    # The agent seed has to be converted back to a \"bytes\" object\n",
    "    agent_seed=bytes.fromhex(AGENT_SEED),\n",
    "    agent_key_name=AGENT_KEY_NAME,\n",
    ")\n",
    "\n",
    "print(\"User and Agent created with Authentication Delegation\")\n",
    "print(\"Please store the following credentials in a safe place !!\")\n",
    "print(\"---\")\n",
    "print(\"USER_KEY_NAME:\", USER_KEY_NAME)\n",
    "print(\"USER_SEED:\", USER_SEED)\n",
    "print(\"---\")\n",
    "print(\"AGENT_KEY_NAME:\", AGENT_KEY_NAME)\n",
    "print(\"AGENT_SEED:\", AGENT_SEED)\n",
    "\n",
    "\n"
   ]
  },
  {
   "cell_type": "code",
   "execution_count": null,
   "id": "3b50bae0-f349-42ee-a62e-38419f377b28",
   "metadata": {},
   "outputs": [],
   "source": []
  }
 ],
 "metadata": {
  "kernelspec": {
   "display_name": "Python 3 (ipykernel)",
   "language": "python",
   "name": "python3"
  },
  "language_info": {
   "codemirror_mode": {
    "name": "ipython",
    "version": 3
   },
   "file_extension": ".py",
   "mimetype": "text/x-python",
   "name": "python",
   "nbconvert_exporter": "python",
   "pygments_lexer": "ipython3",
   "version": "3.10.12"
  }
 },
 "nbformat": 4,
 "nbformat_minor": 5
}
